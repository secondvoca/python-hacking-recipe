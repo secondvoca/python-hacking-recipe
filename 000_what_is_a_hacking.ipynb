{
 "cells": [
  {
   "cell_type": "code",
   "execution_count": 3,
   "metadata": {},
   "outputs": [
    {
     "name": "stdout",
     "output_type": "stream",
     "text": [
      "Request timed out\n"
     ]
    },
    {
     "data": {
      "text/plain": [
       "Request timed out\n",
       "\n",
       "Round Trip Times min/avg/max is 2000/2000/2000 ms"
      ]
     },
     "execution_count": 3,
     "metadata": {},
     "output_type": "execute_result"
    }
   ],
   "source": [
    "from pythonping import ping\n",
    "\n",
    "ping('8.8.8.8', verbose=True, count=1)\n",
    "# ping('100.100.100.255', verbose=True, count=1)"
   ]
  },
  {
   "cell_type": "code",
   "execution_count": null,
   "metadata": {},
   "outputs": [],
   "source": [
    "'''\n",
    "open system interconnection 7 layer\n",
    "'''"
   ]
  },
  {
   "cell_type": "code",
   "execution_count": 4,
   "metadata": {},
   "outputs": [
    {
     "name": "stdout",
     "output_type": "stream",
     "text": [
      "\n",
      "Windows IP Configuration\n",
      "\n",
      "   Host Name . . . . . . . . . . . . : spectre\n",
      "   Primary Dns Suffix  . . . . . . . : \n",
      "   Node Type . . . . . . . . . . . . : Hybrid\n",
      "   IP Routing Enabled. . . . . . . . : No\n",
      "   WINS Proxy Enabled. . . . . . . . : No\n",
      "   DNS Suffix Search List. . . . . . : jj.ac.kr\n",
      "\n",
      "Wireless LAN adapter Local Area Connection* 1:\n",
      "\n",
      "   Media State . . . . . . . . . . . : Media disconnected\n",
      "   Connection-specific DNS Suffix  . : \n",
      "   Description . . . . . . . . . . . : Microsoft Wi-Fi Direct Virtual Adapter\n",
      "   Physical Address. . . . . . . . . : 18-CC-18-FC-C8-A4\n",
      "   DHCP Enabled. . . . . . . . . . . : Yes\n",
      "   Autoconfiguration Enabled . . . . : Yes\n",
      "\n",
      "Wireless LAN adapter Local Area Connection* 2:\n",
      "\n",
      "   Media State . . . . . . . . . . . : Media disconnected\n",
      "   Connection-specific DNS Suffix  . : \n",
      "   Description . . . . . . . . . . . : Microsoft Wi-Fi Direct Virtual Adapter #2\n",
      "   Physical Address. . . . . . . . . : 1A-CC-18-FC-C8-A3\n",
      "   DHCP Enabled. . . . . . . . . . . : Yes\n",
      "   Autoconfiguration Enabled . . . . : Yes\n",
      "\n",
      "Wireless LAN adapter Wi-Fi:\n",
      "\n",
      "   Connection-specific DNS Suffix  . : jj.ac.kr\n",
      "   Description . . . . . . . . . . . : Intel(R) Wi-Fi 6 AX201 160MHz\n",
      "   Physical Address. . . . . . . . . : 18-CC-18-FC-C8-A3\n",
      "   DHCP Enabled. . . . . . . . . . . : Yes\n",
      "   Autoconfiguration Enabled . . . . : Yes\n",
      "   Link-local IPv6 Address . . . . . : fe80::a1f2:d20c:a0c9:793d%16(Preferred) \n",
      "   IPv4 Address. . . . . . . . . . . : 202.31.230.19(Preferred) \n",
      "   Subnet Mask . . . . . . . . . . . : 255.255.255.0\n",
      "   Lease Obtained. . . . . . . . . . : Friday, August 12, 2022 2:18:38 PM\n",
      "   Lease Expires . . . . . . . . . . : Friday, August 12, 2022 4:04:37 PM\n",
      "   Default Gateway . . . . . . . . . : 202.31.230.254\n",
      "   DHCP Server . . . . . . . . . . . : 202.31.224.162\n",
      "   DHCPv6 IAID . . . . . . . . . . . : 152620056\n",
      "   DHCPv6 Client DUID. . . . . . . . : 00-01-00-01-2A-6B-C3-65-18-CC-18-FC-C8-A3\n",
      "   DNS Servers . . . . . . . . . . . : 202.31.224.3\n",
      "                                       202.31.240.2\n",
      "   NetBIOS over Tcpip. . . . . . . . : Enabled\n",
      "\n",
      "Ethernet adapter Bluetooth Network Connection:\n",
      "\n",
      "   Media State . . . . . . . . . . . : Media disconnected\n",
      "   Connection-specific DNS Suffix  . : \n",
      "   Description . . . . . . . . . . . : Bluetooth Device (Personal Area Network)\n",
      "   Physical Address. . . . . . . . . : 18-CC-18-FC-C8-A7\n",
      "   DHCP Enabled. . . . . . . . . . . : Yes\n",
      "   Autoconfiguration Enabled . . . . : Yes\n"
     ]
    }
   ],
   "source": [
    "!ipconfig/all"
   ]
  },
  {
   "cell_type": "code",
   "execution_count": 9,
   "metadata": {},
   "outputs": [
    {
     "name": "stdout",
     "output_type": "stream",
     "text": [
      "202.31.230.19\n"
     ]
    }
   ],
   "source": [
    "import socket\n",
    "print(socket.gethostbyname(socket.gethostname()))"
   ]
  },
  {
   "cell_type": "code",
   "execution_count": 10,
   "metadata": {},
   "outputs": [
    {
     "name": "stdout",
     "output_type": "stream",
     "text": [
      "nt\n"
     ]
    }
   ],
   "source": [
    "import os\n",
    "print(os.name)"
   ]
  },
  {
   "cell_type": "code",
   "execution_count": 11,
   "metadata": {},
   "outputs": [
    {
     "name": "stdout",
     "output_type": "stream",
     "text": [
      "0b1111111111111111\n"
     ]
    }
   ],
   "source": [
    "buf_size = 65535\n",
    "print(bin(buf_size))"
   ]
  },
  {
   "cell_type": "code",
   "execution_count": null,
   "metadata": {},
   "outputs": [],
   "source": []
  }
 ],
 "metadata": {
  "kernelspec": {
   "display_name": "Python 3.9.12 ('phr')",
   "language": "python",
   "name": "python3"
  },
  "language_info": {
   "codemirror_mode": {
    "name": "ipython",
    "version": 3
   },
   "file_extension": ".py",
   "mimetype": "text/x-python",
   "name": "python",
   "nbconvert_exporter": "python",
   "pygments_lexer": "ipython3",
   "version": "3.9.12"
  },
  "orig_nbformat": 4,
  "vscode": {
   "interpreter": {
    "hash": "c8f422a914fbaacbe2dd6153e19e0ae33a4f1089df27107b6924ebbc4fd47efc"
   }
  }
 },
 "nbformat": 4,
 "nbformat_minor": 2
}
